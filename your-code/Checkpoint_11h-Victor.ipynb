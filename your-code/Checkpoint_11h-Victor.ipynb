{
 "cells": [
  {
   "cell_type": "markdown",
   "metadata": {},
   "source": [
    "## Libraries"
   ]
  },
  {
   "cell_type": "code",
   "execution_count": 1,
   "metadata": {},
   "outputs": [],
   "source": [
    "# Set the graphs as interactive.\n",
    "%matplotlib inline\n",
    "# Import necessary libraries for initial analysis\n",
    "import pandas as pd\n",
    "import numpy as np\n",
    "import math\n",
    "import matplotlib.pyplot as plt\n",
    "import matplotlib.cm as cm\n",
    "import matplotlib.colors as color\n",
    "\n",
    "from scipy import stats\n",
    "import seaborn as sns\n",
    "\n",
    "from sklearn.preprocessing import OneHotEncoder\n",
    "from sklearn.preprocessing import OrdinalEncoder\n",
    "from sklearn.compose import ColumnTransformer\n",
    "from sklearn.model_selection import train_test_split\n"
   ]
  },
  {
   "cell_type": "markdown",
   "metadata": {},
   "source": [
    "# Pre-processing numerical features "
   ]
  },
  {
   "cell_type": "code",
   "execution_count": 2,
   "metadata": {},
   "outputs": [],
   "source": [
    "cookies = pd.read_csv(\"../data/cookies.csv\")\n",
    "cookies_validate =  pd.read_csv(\"../data/cookies_validate.csv\")"
   ]
  },
  {
   "cell_type": "code",
   "execution_count": 3,
   "metadata": {},
   "outputs": [],
   "source": [
    "test = cookies[cookies.select_dtypes(['int64','float64']).ge(0).all(1)]"
   ]
  },
  {
   "cell_type": "code",
   "execution_count": 4,
   "metadata": {},
   "outputs": [
    {
     "data": {
      "text/plain": [
       "17"
      ]
     },
     "execution_count": 4,
     "metadata": {},
     "output_type": "execute_result"
    }
   ],
   "source": [
    "cookies.isna().sum().sum()"
   ]
  },
  {
   "cell_type": "code",
   "execution_count": 5,
   "metadata": {},
   "outputs": [
    {
     "data": {
      "text/plain": [
       "(5177, 16)"
      ]
     },
     "execution_count": 5,
     "metadata": {},
     "output_type": "execute_result"
    }
   ],
   "source": [
    "test.shape"
   ]
  },
  {
   "cell_type": "code",
   "execution_count": 6,
   "metadata": {},
   "outputs": [
    {
     "data": {
      "text/plain": [
       "sugar to flour ratio    0\n",
       "sugar index             0\n",
       "bake temp               0\n",
       "chill time              0\n",
       "calories                0\n",
       "density                 0\n",
       "pH                      0\n",
       "grams baking soda       0\n",
       "bake time               0\n",
       "quality                 0\n",
       "butter type             0\n",
       "weight                  0\n",
       "diameter                0\n",
       "mixins                  2\n",
       "crunch factor           0\n",
       "aesthetic appeal        0\n",
       "dtype: int64"
      ]
     },
     "execution_count": 6,
     "metadata": {},
     "output_type": "execute_result"
    }
   ],
   "source": [
    "test.isna().sum()"
   ]
  },
  {
   "cell_type": "code",
   "execution_count": 7,
   "metadata": {},
   "outputs": [
    {
     "data": {
      "text/plain": [
       "(5198, 16)"
      ]
     },
     "execution_count": 7,
     "metadata": {},
     "output_type": "execute_result"
    }
   ],
   "source": [
    "cookies.shape"
   ]
  },
  {
   "cell_type": "code",
   "execution_count": 8,
   "metadata": {},
   "outputs": [
    {
     "data": {
      "text/plain": [
       "sugar to flour ratio    36\n",
       "sugar index             36\n",
       "bake temp               36\n",
       "chill time              36\n",
       "calories                36\n",
       "density                 36\n",
       "pH                      36\n",
       "grams baking soda       36\n",
       "bake time               36\n",
       "quality                 36\n",
       "butter type             36\n",
       "weight                  36\n",
       "diameter                36\n",
       "mixins                  36\n",
       "crunch factor           36\n",
       "aesthetic appeal        36\n",
       "dtype: int64"
      ]
     },
     "execution_count": 8,
     "metadata": {},
     "output_type": "execute_result"
    }
   ],
   "source": [
    "cookies[cookies[\"sugar index\"] == 3.0].count()"
   ]
  },
  {
   "cell_type": "code",
   "execution_count": 9,
   "metadata": {},
   "outputs": [
    {
     "data": {
      "text/plain": [
       "3.0"
      ]
     },
     "execution_count": 9,
     "metadata": {},
     "output_type": "execute_result"
    }
   ],
   "source": [
    "cookies[\"sugar index\"].median()"
   ]
  },
  {
   "cell_type": "code",
   "execution_count": 10,
   "metadata": {},
   "outputs": [
    {
     "data": {
      "text/plain": [
       "sugar to flour ratio     0\n",
       "sugar index              5\n",
       "bake temp                0\n",
       "chill time               0\n",
       "calories                 0\n",
       "density                  0\n",
       "pH                       0\n",
       "grams baking soda        0\n",
       "bake time               10\n",
       "quality                  0\n",
       "butter type              0\n",
       "weight                   0\n",
       "diameter                 0\n",
       "mixins                   2\n",
       "crunch factor            0\n",
       "aesthetic appeal         0\n",
       "dtype: int64"
      ]
     },
     "execution_count": 10,
     "metadata": {},
     "output_type": "execute_result"
    }
   ],
   "source": [
    "cookies.isna().sum()"
   ]
  },
  {
   "cell_type": "code",
   "execution_count": 11,
   "metadata": {},
   "outputs": [
    {
     "data": {
      "text/html": [
       "<div>\n",
       "<style scoped>\n",
       "    .dataframe tbody tr th:only-of-type {\n",
       "        vertical-align: middle;\n",
       "    }\n",
       "\n",
       "    .dataframe tbody tr th {\n",
       "        vertical-align: top;\n",
       "    }\n",
       "\n",
       "    .dataframe thead th {\n",
       "        text-align: right;\n",
       "    }\n",
       "</style>\n",
       "<table border=\"1\" class=\"dataframe\">\n",
       "  <thead>\n",
       "    <tr style=\"text-align: right;\">\n",
       "      <th></th>\n",
       "      <th>sugar to flour ratio</th>\n",
       "      <th>sugar index</th>\n",
       "      <th>bake temp</th>\n",
       "      <th>chill time</th>\n",
       "      <th>calories</th>\n",
       "      <th>density</th>\n",
       "      <th>pH</th>\n",
       "      <th>grams baking soda</th>\n",
       "      <th>bake time</th>\n",
       "      <th>quality</th>\n",
       "      <th>butter type</th>\n",
       "      <th>weight</th>\n",
       "      <th>diameter</th>\n",
       "      <th>mixins</th>\n",
       "      <th>crunch factor</th>\n",
       "      <th>aesthetic appeal</th>\n",
       "    </tr>\n",
       "  </thead>\n",
       "  <tbody>\n",
       "    <tr>\n",
       "      <th>0</th>\n",
       "      <td>0.25</td>\n",
       "      <td>9.5</td>\n",
       "      <td>300</td>\n",
       "      <td>15.0</td>\n",
       "      <td>136.0</td>\n",
       "      <td>0.99367</td>\n",
       "      <td>8.10</td>\n",
       "      <td>0.44</td>\n",
       "      <td>12.1</td>\n",
       "      <td>8</td>\n",
       "      <td>melted</td>\n",
       "      <td>15.2</td>\n",
       "      <td>7</td>\n",
       "      <td>raisins</td>\n",
       "      <td>1.30</td>\n",
       "      <td>3</td>\n",
       "    </tr>\n",
       "    <tr>\n",
       "      <th>1</th>\n",
       "      <td>0.23</td>\n",
       "      <td>3.3</td>\n",
       "      <td>520</td>\n",
       "      <td>34.0</td>\n",
       "      <td>113.0</td>\n",
       "      <td>0.99429</td>\n",
       "      <td>8.16</td>\n",
       "      <td>0.48</td>\n",
       "      <td>8.4</td>\n",
       "      <td>7</td>\n",
       "      <td>melted</td>\n",
       "      <td>12.4</td>\n",
       "      <td>7</td>\n",
       "      <td>raisins</td>\n",
       "      <td>1.71</td>\n",
       "      <td>3</td>\n",
       "    </tr>\n",
       "    <tr>\n",
       "      <th>2</th>\n",
       "      <td>0.18</td>\n",
       "      <td>1.9</td>\n",
       "      <td>360</td>\n",
       "      <td>33.0</td>\n",
       "      <td>106.0</td>\n",
       "      <td>0.98746</td>\n",
       "      <td>8.21</td>\n",
       "      <td>0.83</td>\n",
       "      <td>14.0</td>\n",
       "      <td>9</td>\n",
       "      <td>melted</td>\n",
       "      <td>9.4</td>\n",
       "      <td>7</td>\n",
       "      <td>nuts, chocolate</td>\n",
       "      <td>1.78</td>\n",
       "      <td>3</td>\n",
       "    </tr>\n",
       "    <tr>\n",
       "      <th>3</th>\n",
       "      <td>0.18</td>\n",
       "      <td>10.5</td>\n",
       "      <td>490</td>\n",
       "      <td>41.0</td>\n",
       "      <td>124.0</td>\n",
       "      <td>0.99630</td>\n",
       "      <td>8.14</td>\n",
       "      <td>0.35</td>\n",
       "      <td>10.5</td>\n",
       "      <td>7</td>\n",
       "      <td>melted</td>\n",
       "      <td>12.2</td>\n",
       "      <td>7</td>\n",
       "      <td>chocolate</td>\n",
       "      <td>1.59</td>\n",
       "      <td>3</td>\n",
       "    </tr>\n",
       "    <tr>\n",
       "      <th>4</th>\n",
       "      <td>0.24</td>\n",
       "      <td>2.4</td>\n",
       "      <td>770</td>\n",
       "      <td>6.0</td>\n",
       "      <td>33.0</td>\n",
       "      <td>0.99740</td>\n",
       "      <td>8.09</td>\n",
       "      <td>0.57</td>\n",
       "      <td>9.4</td>\n",
       "      <td>5</td>\n",
       "      <td>cubed</td>\n",
       "      <td>19.8</td>\n",
       "      <td>7</td>\n",
       "      <td>nuts, oats, chocolate</td>\n",
       "      <td>1.30</td>\n",
       "      <td>3</td>\n",
       "    </tr>\n",
       "  </tbody>\n",
       "</table>\n",
       "</div>"
      ],
      "text/plain": [
       "   sugar to flour ratio  sugar index  bake temp  chill time  calories  \\\n",
       "0                  0.25          9.5        300        15.0     136.0   \n",
       "1                  0.23          3.3        520        34.0     113.0   \n",
       "2                  0.18          1.9        360        33.0     106.0   \n",
       "3                  0.18         10.5        490        41.0     124.0   \n",
       "4                  0.24          2.4        770         6.0      33.0   \n",
       "\n",
       "   density    pH  grams baking soda  bake time  quality butter type  weight  \\\n",
       "0  0.99367  8.10               0.44       12.1        8      melted    15.2   \n",
       "1  0.99429  8.16               0.48        8.4        7      melted    12.4   \n",
       "2  0.98746  8.21               0.83       14.0        9      melted     9.4   \n",
       "3  0.99630  8.14               0.35       10.5        7      melted    12.2   \n",
       "4  0.99740  8.09               0.57        9.4        5       cubed    19.8   \n",
       "\n",
       "   diameter                 mixins  crunch factor  aesthetic appeal  \n",
       "0         7                raisins           1.30                 3  \n",
       "1         7                raisins           1.71                 3  \n",
       "2         7        nuts, chocolate           1.78                 3  \n",
       "3         7              chocolate           1.59                 3  \n",
       "4         7  nuts, oats, chocolate           1.30                 3  "
      ]
     },
     "execution_count": 11,
     "metadata": {},
     "output_type": "execute_result"
    }
   ],
   "source": [
    "cookies.head()"
   ]
  },
  {
   "cell_type": "code",
   "execution_count": 12,
   "metadata": {},
   "outputs": [
    {
     "name": "stdout",
     "output_type": "stream",
     "text": [
      "<class 'pandas.core.frame.DataFrame'>\n",
      "RangeIndex: 5198 entries, 0 to 5197\n",
      "Data columns (total 16 columns):\n",
      " #   Column                Non-Null Count  Dtype  \n",
      "---  ------                --------------  -----  \n",
      " 0   sugar to flour ratio  5198 non-null   float64\n",
      " 1   sugar index           5193 non-null   float64\n",
      " 2   bake temp             5198 non-null   int64  \n",
      " 3   chill time            5198 non-null   float64\n",
      " 4   calories              5198 non-null   float64\n",
      " 5   density               5198 non-null   float64\n",
      " 6   pH                    5198 non-null   float64\n",
      " 7   grams baking soda     5198 non-null   float64\n",
      " 8   bake time             5188 non-null   float64\n",
      " 9   quality               5198 non-null   int64  \n",
      " 10  butter type           5198 non-null   object \n",
      " 11  weight                5198 non-null   float64\n",
      " 12  diameter              5198 non-null   int64  \n",
      " 13  mixins                5196 non-null   object \n",
      " 14  crunch factor         5198 non-null   float64\n",
      " 15  aesthetic appeal      5198 non-null   int64  \n",
      "dtypes: float64(10), int64(4), object(2)\n",
      "memory usage: 649.9+ KB\n"
     ]
    }
   ],
   "source": [
    "cookies.info()"
   ]
  },
  {
   "cell_type": "code",
   "execution_count": 13,
   "metadata": {},
   "outputs": [
    {
     "data": {
      "text/html": [
       "<div>\n",
       "<style scoped>\n",
       "    .dataframe tbody tr th:only-of-type {\n",
       "        vertical-align: middle;\n",
       "    }\n",
       "\n",
       "    .dataframe tbody tr th {\n",
       "        vertical-align: top;\n",
       "    }\n",
       "\n",
       "    .dataframe thead th {\n",
       "        text-align: right;\n",
       "    }\n",
       "</style>\n",
       "<table border=\"1\" class=\"dataframe\">\n",
       "  <thead>\n",
       "    <tr style=\"text-align: right;\">\n",
       "      <th></th>\n",
       "      <th>sugar to flour ratio</th>\n",
       "      <th>sugar index</th>\n",
       "      <th>bake temp</th>\n",
       "      <th>chill time</th>\n",
       "      <th>calories</th>\n",
       "      <th>density</th>\n",
       "      <th>pH</th>\n",
       "      <th>grams baking soda</th>\n",
       "      <th>bake time</th>\n",
       "      <th>quality</th>\n",
       "      <th>weight</th>\n",
       "      <th>diameter</th>\n",
       "      <th>crunch factor</th>\n",
       "      <th>aesthetic appeal</th>\n",
       "    </tr>\n",
       "  </thead>\n",
       "  <tbody>\n",
       "    <tr>\n",
       "      <th>count</th>\n",
       "      <td>5198.000000</td>\n",
       "      <td>5193.000000</td>\n",
       "      <td>5198.000000</td>\n",
       "      <td>5198.000000</td>\n",
       "      <td>5198.000000</td>\n",
       "      <td>5198.000000</td>\n",
       "      <td>5198.000000</td>\n",
       "      <td>5198.000000</td>\n",
       "      <td>5188.000000</td>\n",
       "      <td>5198.000000</td>\n",
       "      <td>5198.000000</td>\n",
       "      <td>5198.0</td>\n",
       "      <td>5198.000000</td>\n",
       "      <td>5198.000000</td>\n",
       "    </tr>\n",
       "    <tr>\n",
       "      <th>mean</th>\n",
       "      <td>0.318049</td>\n",
       "      <td>5.402465</td>\n",
       "      <td>559.638322</td>\n",
       "      <td>30.390246</td>\n",
       "      <td>115.015294</td>\n",
       "      <td>0.995819</td>\n",
       "      <td>8.222020</td>\n",
       "      <td>0.530864</td>\n",
       "      <td>10.494758</td>\n",
       "      <td>7.325125</td>\n",
       "      <td>14.381935</td>\n",
       "      <td>7.0</td>\n",
       "      <td>1.499367</td>\n",
       "      <td>3.000577</td>\n",
       "    </tr>\n",
       "    <tr>\n",
       "      <th>std</th>\n",
       "      <td>0.150036</td>\n",
       "      <td>4.668342</td>\n",
       "      <td>353.274062</td>\n",
       "      <td>17.268403</td>\n",
       "      <td>56.506171</td>\n",
       "      <td>0.062193</td>\n",
       "      <td>0.283323</td>\n",
       "      <td>0.150886</td>\n",
       "      <td>1.194584</td>\n",
       "      <td>1.302780</td>\n",
       "      <td>3.023740</td>\n",
       "      <td>0.0</td>\n",
       "      <td>0.289205</td>\n",
       "      <td>0.024019</td>\n",
       "    </tr>\n",
       "    <tr>\n",
       "      <th>min</th>\n",
       "      <td>0.000000</td>\n",
       "      <td>0.600000</td>\n",
       "      <td>90.000000</td>\n",
       "      <td>0.000000</td>\n",
       "      <td>-99.000000</td>\n",
       "      <td>0.987110</td>\n",
       "      <td>7.720000</td>\n",
       "      <td>0.220000</td>\n",
       "      <td>8.000000</td>\n",
       "      <td>3.000000</td>\n",
       "      <td>-99.000000</td>\n",
       "      <td>7.0</td>\n",
       "      <td>1.000000</td>\n",
       "      <td>3.000000</td>\n",
       "    </tr>\n",
       "    <tr>\n",
       "      <th>25%</th>\n",
       "      <td>0.240000</td>\n",
       "      <td>1.800000</td>\n",
       "      <td>380.000000</td>\n",
       "      <td>17.000000</td>\n",
       "      <td>76.000000</td>\n",
       "      <td>0.992300</td>\n",
       "      <td>8.110000</td>\n",
       "      <td>0.430000</td>\n",
       "      <td>9.500000</td>\n",
       "      <td>7.000000</td>\n",
       "      <td>12.800000</td>\n",
       "      <td>7.0</td>\n",
       "      <td>1.250000</td>\n",
       "      <td>3.000000</td>\n",
       "    </tr>\n",
       "    <tr>\n",
       "      <th>50%</th>\n",
       "      <td>0.310000</td>\n",
       "      <td>3.000000</td>\n",
       "      <td>470.000000</td>\n",
       "      <td>29.000000</td>\n",
       "      <td>118.000000</td>\n",
       "      <td>0.994800</td>\n",
       "      <td>8.210000</td>\n",
       "      <td>0.505000</td>\n",
       "      <td>10.300000</td>\n",
       "      <td>8.000000</td>\n",
       "      <td>14.000000</td>\n",
       "      <td>7.0</td>\n",
       "      <td>1.500000</td>\n",
       "      <td>3.000000</td>\n",
       "    </tr>\n",
       "    <tr>\n",
       "      <th>75%</th>\n",
       "      <td>0.390000</td>\n",
       "      <td>8.000000</td>\n",
       "      <td>640.000000</td>\n",
       "      <td>41.000000</td>\n",
       "      <td>155.000000</td>\n",
       "      <td>0.996908</td>\n",
       "      <td>8.320000</td>\n",
       "      <td>0.600000</td>\n",
       "      <td>11.300000</td>\n",
       "      <td>8.000000</td>\n",
       "      <td>15.400000</td>\n",
       "      <td>7.0</td>\n",
       "      <td>1.750000</td>\n",
       "      <td>3.000000</td>\n",
       "    </tr>\n",
       "    <tr>\n",
       "      <th>max</th>\n",
       "      <td>3.000000</td>\n",
       "      <td>31.600000</td>\n",
       "      <td>6110.000000</td>\n",
       "      <td>146.500000</td>\n",
       "      <td>366.500000</td>\n",
       "      <td>5.000000</td>\n",
       "      <td>25.000000</td>\n",
       "      <td>2.000000</td>\n",
       "      <td>14.900000</td>\n",
       "      <td>11.000000</td>\n",
       "      <td>31.800000</td>\n",
       "      <td>7.0</td>\n",
       "      <td>2.000000</td>\n",
       "      <td>4.000000</td>\n",
       "    </tr>\n",
       "  </tbody>\n",
       "</table>\n",
       "</div>"
      ],
      "text/plain": [
       "       sugar to flour ratio  sugar index    bake temp   chill time  \\\n",
       "count           5198.000000  5193.000000  5198.000000  5198.000000   \n",
       "mean               0.318049     5.402465   559.638322    30.390246   \n",
       "std                0.150036     4.668342   353.274062    17.268403   \n",
       "min                0.000000     0.600000    90.000000     0.000000   \n",
       "25%                0.240000     1.800000   380.000000    17.000000   \n",
       "50%                0.310000     3.000000   470.000000    29.000000   \n",
       "75%                0.390000     8.000000   640.000000    41.000000   \n",
       "max                3.000000    31.600000  6110.000000   146.500000   \n",
       "\n",
       "          calories      density           pH  grams baking soda    bake time  \\\n",
       "count  5198.000000  5198.000000  5198.000000        5198.000000  5188.000000   \n",
       "mean    115.015294     0.995819     8.222020           0.530864    10.494758   \n",
       "std      56.506171     0.062193     0.283323           0.150886     1.194584   \n",
       "min     -99.000000     0.987110     7.720000           0.220000     8.000000   \n",
       "25%      76.000000     0.992300     8.110000           0.430000     9.500000   \n",
       "50%     118.000000     0.994800     8.210000           0.505000    10.300000   \n",
       "75%     155.000000     0.996908     8.320000           0.600000    11.300000   \n",
       "max     366.500000     5.000000    25.000000           2.000000    14.900000   \n",
       "\n",
       "           quality       weight  diameter  crunch factor  aesthetic appeal  \n",
       "count  5198.000000  5198.000000    5198.0    5198.000000       5198.000000  \n",
       "mean      7.325125    14.381935       7.0       1.499367          3.000577  \n",
       "std       1.302780     3.023740       0.0       0.289205          0.024019  \n",
       "min       3.000000   -99.000000       7.0       1.000000          3.000000  \n",
       "25%       7.000000    12.800000       7.0       1.250000          3.000000  \n",
       "50%       8.000000    14.000000       7.0       1.500000          3.000000  \n",
       "75%       8.000000    15.400000       7.0       1.750000          3.000000  \n",
       "max      11.000000    31.800000       7.0       2.000000          4.000000  "
      ]
     },
     "execution_count": 13,
     "metadata": {},
     "output_type": "execute_result"
    }
   ],
   "source": [
    "cookies.describe()"
   ]
  },
  {
   "cell_type": "code",
   "execution_count": 14,
   "metadata": {},
   "outputs": [
    {
     "data": {
      "text/html": [
       "<div>\n",
       "<style scoped>\n",
       "    .dataframe tbody tr th:only-of-type {\n",
       "        vertical-align: middle;\n",
       "    }\n",
       "\n",
       "    .dataframe tbody tr th {\n",
       "        vertical-align: top;\n",
       "    }\n",
       "\n",
       "    .dataframe thead th {\n",
       "        text-align: right;\n",
       "    }\n",
       "</style>\n",
       "<table border=\"1\" class=\"dataframe\">\n",
       "  <thead>\n",
       "    <tr style=\"text-align: right;\">\n",
       "      <th></th>\n",
       "      <th>sugar to flour ratio</th>\n",
       "      <th>sugar index</th>\n",
       "      <th>bake temp</th>\n",
       "      <th>chill time</th>\n",
       "      <th>calories</th>\n",
       "      <th>density</th>\n",
       "      <th>pH</th>\n",
       "      <th>grams baking soda</th>\n",
       "      <th>bake time</th>\n",
       "      <th>quality</th>\n",
       "      <th>butter type</th>\n",
       "      <th>weight</th>\n",
       "      <th>diameter</th>\n",
       "      <th>mixins</th>\n",
       "      <th>crunch factor</th>\n",
       "      <th>aesthetic appeal</th>\n",
       "    </tr>\n",
       "  </thead>\n",
       "  <tbody>\n",
       "    <tr>\n",
       "      <th>0</th>\n",
       "      <td>NaN</td>\n",
       "      <td>NaN</td>\n",
       "      <td>NaN</td>\n",
       "      <td>NaN</td>\n",
       "      <td>NaN</td>\n",
       "      <td>NaN</td>\n",
       "      <td>NaN</td>\n",
       "      <td>NaN</td>\n",
       "      <td>NaN</td>\n",
       "      <td>NaN</td>\n",
       "      <td>NaN</td>\n",
       "      <td>NaN</td>\n",
       "      <td>NaN</td>\n",
       "      <td>NaN</td>\n",
       "      <td>NaN</td>\n",
       "      <td>NaN</td>\n",
       "    </tr>\n",
       "    <tr>\n",
       "      <th>1</th>\n",
       "      <td>NaN</td>\n",
       "      <td>NaN</td>\n",
       "      <td>NaN</td>\n",
       "      <td>NaN</td>\n",
       "      <td>NaN</td>\n",
       "      <td>NaN</td>\n",
       "      <td>NaN</td>\n",
       "      <td>NaN</td>\n",
       "      <td>NaN</td>\n",
       "      <td>NaN</td>\n",
       "      <td>NaN</td>\n",
       "      <td>NaN</td>\n",
       "      <td>NaN</td>\n",
       "      <td>NaN</td>\n",
       "      <td>NaN</td>\n",
       "      <td>NaN</td>\n",
       "    </tr>\n",
       "    <tr>\n",
       "      <th>2</th>\n",
       "      <td>NaN</td>\n",
       "      <td>NaN</td>\n",
       "      <td>NaN</td>\n",
       "      <td>NaN</td>\n",
       "      <td>NaN</td>\n",
       "      <td>NaN</td>\n",
       "      <td>NaN</td>\n",
       "      <td>NaN</td>\n",
       "      <td>NaN</td>\n",
       "      <td>NaN</td>\n",
       "      <td>NaN</td>\n",
       "      <td>NaN</td>\n",
       "      <td>NaN</td>\n",
       "      <td>NaN</td>\n",
       "      <td>NaN</td>\n",
       "      <td>NaN</td>\n",
       "    </tr>\n",
       "    <tr>\n",
       "      <th>3</th>\n",
       "      <td>NaN</td>\n",
       "      <td>NaN</td>\n",
       "      <td>NaN</td>\n",
       "      <td>NaN</td>\n",
       "      <td>NaN</td>\n",
       "      <td>NaN</td>\n",
       "      <td>NaN</td>\n",
       "      <td>NaN</td>\n",
       "      <td>NaN</td>\n",
       "      <td>NaN</td>\n",
       "      <td>NaN</td>\n",
       "      <td>NaN</td>\n",
       "      <td>NaN</td>\n",
       "      <td>NaN</td>\n",
       "      <td>NaN</td>\n",
       "      <td>NaN</td>\n",
       "    </tr>\n",
       "    <tr>\n",
       "      <th>4</th>\n",
       "      <td>NaN</td>\n",
       "      <td>NaN</td>\n",
       "      <td>NaN</td>\n",
       "      <td>NaN</td>\n",
       "      <td>NaN</td>\n",
       "      <td>NaN</td>\n",
       "      <td>NaN</td>\n",
       "      <td>NaN</td>\n",
       "      <td>NaN</td>\n",
       "      <td>NaN</td>\n",
       "      <td>NaN</td>\n",
       "      <td>NaN</td>\n",
       "      <td>NaN</td>\n",
       "      <td>NaN</td>\n",
       "      <td>NaN</td>\n",
       "      <td>NaN</td>\n",
       "    </tr>\n",
       "    <tr>\n",
       "      <th>...</th>\n",
       "      <td>...</td>\n",
       "      <td>...</td>\n",
       "      <td>...</td>\n",
       "      <td>...</td>\n",
       "      <td>...</td>\n",
       "      <td>...</td>\n",
       "      <td>...</td>\n",
       "      <td>...</td>\n",
       "      <td>...</td>\n",
       "      <td>...</td>\n",
       "      <td>...</td>\n",
       "      <td>...</td>\n",
       "      <td>...</td>\n",
       "      <td>...</td>\n",
       "      <td>...</td>\n",
       "      <td>...</td>\n",
       "    </tr>\n",
       "    <tr>\n",
       "      <th>5193</th>\n",
       "      <td>NaN</td>\n",
       "      <td>NaN</td>\n",
       "      <td>NaN</td>\n",
       "      <td>NaN</td>\n",
       "      <td>NaN</td>\n",
       "      <td>NaN</td>\n",
       "      <td>NaN</td>\n",
       "      <td>NaN</td>\n",
       "      <td>NaN</td>\n",
       "      <td>NaN</td>\n",
       "      <td>NaN</td>\n",
       "      <td>NaN</td>\n",
       "      <td>NaN</td>\n",
       "      <td>NaN</td>\n",
       "      <td>NaN</td>\n",
       "      <td>NaN</td>\n",
       "    </tr>\n",
       "    <tr>\n",
       "      <th>5194</th>\n",
       "      <td>NaN</td>\n",
       "      <td>NaN</td>\n",
       "      <td>NaN</td>\n",
       "      <td>NaN</td>\n",
       "      <td>NaN</td>\n",
       "      <td>NaN</td>\n",
       "      <td>NaN</td>\n",
       "      <td>NaN</td>\n",
       "      <td>NaN</td>\n",
       "      <td>NaN</td>\n",
       "      <td>NaN</td>\n",
       "      <td>NaN</td>\n",
       "      <td>NaN</td>\n",
       "      <td>NaN</td>\n",
       "      <td>NaN</td>\n",
       "      <td>NaN</td>\n",
       "    </tr>\n",
       "    <tr>\n",
       "      <th>5195</th>\n",
       "      <td>NaN</td>\n",
       "      <td>NaN</td>\n",
       "      <td>NaN</td>\n",
       "      <td>NaN</td>\n",
       "      <td>NaN</td>\n",
       "      <td>NaN</td>\n",
       "      <td>NaN</td>\n",
       "      <td>NaN</td>\n",
       "      <td>NaN</td>\n",
       "      <td>NaN</td>\n",
       "      <td>NaN</td>\n",
       "      <td>NaN</td>\n",
       "      <td>NaN</td>\n",
       "      <td>NaN</td>\n",
       "      <td>NaN</td>\n",
       "      <td>NaN</td>\n",
       "    </tr>\n",
       "    <tr>\n",
       "      <th>5196</th>\n",
       "      <td>NaN</td>\n",
       "      <td>NaN</td>\n",
       "      <td>NaN</td>\n",
       "      <td>NaN</td>\n",
       "      <td>NaN</td>\n",
       "      <td>NaN</td>\n",
       "      <td>NaN</td>\n",
       "      <td>NaN</td>\n",
       "      <td>NaN</td>\n",
       "      <td>NaN</td>\n",
       "      <td>NaN</td>\n",
       "      <td>NaN</td>\n",
       "      <td>NaN</td>\n",
       "      <td>NaN</td>\n",
       "      <td>NaN</td>\n",
       "      <td>NaN</td>\n",
       "    </tr>\n",
       "    <tr>\n",
       "      <th>5197</th>\n",
       "      <td>NaN</td>\n",
       "      <td>NaN</td>\n",
       "      <td>NaN</td>\n",
       "      <td>NaN</td>\n",
       "      <td>NaN</td>\n",
       "      <td>NaN</td>\n",
       "      <td>NaN</td>\n",
       "      <td>NaN</td>\n",
       "      <td>NaN</td>\n",
       "      <td>NaN</td>\n",
       "      <td>NaN</td>\n",
       "      <td>NaN</td>\n",
       "      <td>NaN</td>\n",
       "      <td>NaN</td>\n",
       "      <td>NaN</td>\n",
       "      <td>NaN</td>\n",
       "    </tr>\n",
       "  </tbody>\n",
       "</table>\n",
       "<p>5198 rows × 16 columns</p>\n",
       "</div>"
      ],
      "text/plain": [
       "      sugar to flour ratio  sugar index  bake temp  chill time  calories  \\\n",
       "0                      NaN          NaN        NaN         NaN       NaN   \n",
       "1                      NaN          NaN        NaN         NaN       NaN   \n",
       "2                      NaN          NaN        NaN         NaN       NaN   \n",
       "3                      NaN          NaN        NaN         NaN       NaN   \n",
       "4                      NaN          NaN        NaN         NaN       NaN   \n",
       "...                    ...          ...        ...         ...       ...   \n",
       "5193                   NaN          NaN        NaN         NaN       NaN   \n",
       "5194                   NaN          NaN        NaN         NaN       NaN   \n",
       "5195                   NaN          NaN        NaN         NaN       NaN   \n",
       "5196                   NaN          NaN        NaN         NaN       NaN   \n",
       "5197                   NaN          NaN        NaN         NaN       NaN   \n",
       "\n",
       "      density  pH  grams baking soda  bake time  quality butter type  weight  \\\n",
       "0         NaN NaN                NaN        NaN      NaN         NaN     NaN   \n",
       "1         NaN NaN                NaN        NaN      NaN         NaN     NaN   \n",
       "2         NaN NaN                NaN        NaN      NaN         NaN     NaN   \n",
       "3         NaN NaN                NaN        NaN      NaN         NaN     NaN   \n",
       "4         NaN NaN                NaN        NaN      NaN         NaN     NaN   \n",
       "...       ...  ..                ...        ...      ...         ...     ...   \n",
       "5193      NaN NaN                NaN        NaN      NaN         NaN     NaN   \n",
       "5194      NaN NaN                NaN        NaN      NaN         NaN     NaN   \n",
       "5195      NaN NaN                NaN        NaN      NaN         NaN     NaN   \n",
       "5196      NaN NaN                NaN        NaN      NaN         NaN     NaN   \n",
       "5197      NaN NaN                NaN        NaN      NaN         NaN     NaN   \n",
       "\n",
       "      diameter mixins  crunch factor  aesthetic appeal  \n",
       "0          NaN    NaN            NaN               NaN  \n",
       "1          NaN    NaN            NaN               NaN  \n",
       "2          NaN    NaN            NaN               NaN  \n",
       "3          NaN    NaN            NaN               NaN  \n",
       "4          NaN    NaN            NaN               NaN  \n",
       "...        ...    ...            ...               ...  \n",
       "5193       NaN    NaN            NaN               NaN  \n",
       "5194       NaN    NaN            NaN               NaN  \n",
       "5195       NaN    NaN            NaN               NaN  \n",
       "5196       NaN    NaN            NaN               NaN  \n",
       "5197       NaN    NaN            NaN               NaN  \n",
       "\n",
       "[5198 rows x 16 columns]"
      ]
     },
     "execution_count": 14,
     "metadata": {},
     "output_type": "execute_result"
    }
   ],
   "source": [
    "cookies[cookies.isnull()]"
   ]
  },
  {
   "cell_type": "code",
   "execution_count": 15,
   "metadata": {},
   "outputs": [
    {
     "data": {
      "text/plain": [
       "sugar to flour ratio     0\n",
       "sugar index              5\n",
       "bake temp                0\n",
       "chill time               0\n",
       "calories                 0\n",
       "density                  0\n",
       "pH                       0\n",
       "grams baking soda        0\n",
       "bake time               10\n",
       "quality                  0\n",
       "butter type              0\n",
       "weight                   0\n",
       "diameter                 0\n",
       "mixins                   2\n",
       "crunch factor            0\n",
       "aesthetic appeal         0\n",
       "dtype: int64"
      ]
     },
     "execution_count": 15,
     "metadata": {},
     "output_type": "execute_result"
    }
   ],
   "source": [
    "cookies.isnull().sum()"
   ]
  },
  {
   "cell_type": "code",
   "execution_count": 16,
   "metadata": {},
   "outputs": [
    {
     "data": {
      "image/png": "[encoded data removed]",
      "text/plain": [
       "<Figure size 864x576 with 2 Axes>"
      ]
     },
     "metadata": {
      "needs_background": "light"
     },
     "output_type": "display_data"
    }
   ],
   "source": [
    "fig, ax = plt.subplots(1,1, figsize=(12,8))\n",
    "\n",
    "corrMatrix = cookies.corr().abs()\n",
    "sns.heatmap(corrMatrix, annot=True)\n",
    "plt.show()"
   ]
  },
  {
   "cell_type": "markdown",
   "metadata": {},
   "source": [
    "**Eliminate the NaN and diameter cause doesn't make sense one column with every value with 7 (there's no corr)**"
   ]
  },
  {
   "cell_type": "code",
   "execution_count": 17,
   "metadata": {},
   "outputs": [
    {
     "data": {
      "text/plain": [
       "sugar to flour ratio    0\n",
       "sugar index             0\n",
       "bake temp               0\n",
       "chill time              0\n",
       "calories                0\n",
       "density                 0\n",
       "pH                      0\n",
       "grams baking soda       0\n",
       "bake time               0\n",
       "quality                 0\n",
       "butter type             0\n",
       "weight                  0\n",
       "mixins                  0\n",
       "crunch factor           0\n",
       "aesthetic appeal        0\n",
       "dtype: int64"
      ]
     },
     "execution_count": 17,
     "metadata": {},
     "output_type": "execute_result"
    }
   ],
   "source": [
    "cookies = cookies.dropna()\n",
    "cookies = cookies.drop(columns = 'diameter',axis=1)\n",
    "cookies.isnull().sum()"
   ]
  },
  {
   "cell_type": "markdown",
   "metadata": {},
   "source": [
    "**Let's see the values for string columns values and then drop de outliers with numerical values columns**"
   ]
  },
  {
   "cell_type": "code",
   "execution_count": 18,
   "metadata": {},
   "outputs": [
    {
     "data": {
      "text/plain": [
       "array(['raisins', 'nuts, chocolate', 'chocolate', 'nuts, oats, chocolate',\n",
       "       'chocolate, oats', 'raisins, oats', 'nuts,raisins', 'nuts, oats',\n",
       "       'chocolate, peanut butter', 'chocolate, oats, peanut butter',\n",
       "       'peanut butter', 'peanut butter, raisins', 'oats'], dtype=object)"
      ]
     },
     "execution_count": 18,
     "metadata": {},
     "output_type": "execute_result"
    }
   ],
   "source": [
    "cookies['butter type'].unique() #For One Hot\n",
    "cookies['mixins'].unique()"
   ]
  },
  {
   "cell_type": "code",
   "execution_count": 19,
   "metadata": {},
   "outputs": [],
   "source": [
    "# we observe that mixins there's a not space applied in 'nuts,raisins', then we replace with space\n",
    "cookies[\"mixins\"] = cookies[\"mixins\"].str.replace(\"nuts,raisins\", \"nuts, raisins\")"
   ]
  },
  {
   "cell_type": "code",
   "execution_count": 20,
   "metadata": {},
   "outputs": [],
   "source": [
    "z = np.abs(stats.zscore(cookies.select_dtypes(['int64', 'float64'])))\n",
    "cookies = cookies[(z < 3).all(axis=1)]\n",
    "cookies_float = cookies.select_dtypes(['int64', 'float64'])"
   ]
  },
  {
   "cell_type": "markdown",
   "metadata": {},
   "source": [
    "**Seeking the linear regresion. If the line is flat, we eliminate them cause doesn't mean any relation significant variable**"
   ]
  },
  {
   "cell_type": "code",
   "execution_count": 21,
   "metadata": {
    "jupyter": {
     "outputs_hidden": true
    }
   },
   "outputs": [
    {
     "data": {
      "text/plain": [
       "<seaborn.axisgrid.PairGrid at 0x1e8c5ce0160>"
      ]
     },
     "execution_count": 21,
     "metadata": {},
     "output_type": "execute_result"
    },
    {
     "data": {
      "image/png": "[encoded data removed]",
      "text/plain": [
       "<Figure size 180x2340 with 13 Axes>"
      ]
     },
     "metadata": {
      "needs_background": "light"
     },
     "output_type": "display_data"
    }
   ],
   "source": [
    "sns.pairplot(data = cookies_float, y_vars = cookies_float.columns,x_vars = 'quality' ,kind = 'reg' )"
   ]
  },
  {
   "cell_type": "code",
   "execution_count": 22,
   "metadata": {},
   "outputs": [],
   "source": [
    "cookies = cookies.drop(columns='aesthetic appeal')"
   ]
  },
  {
   "cell_type": "markdown",
   "metadata": {},
   "source": [
    "# Pre-processing categorical features"
   ]
  },
  {
   "cell_type": "markdown",
   "metadata": {},
   "source": [
    "### One Hot Encoding"
   ]
  },
  {
   "cell_type": "code",
   "execution_count": 23,
   "metadata": {},
   "outputs": [],
   "source": [
    "cookies = pd.concat([cookies,pd.get_dummies(cookies['butter type'], prefix='butter type')],axis=1)\n",
    "cookies.drop(['butter type'],axis=1, inplace=True)"
   ]
  },
  {
   "cell_type": "code",
   "execution_count": 24,
   "metadata": {},
   "outputs": [
    {
     "data": {
      "text/html": [
       "<div>\n",
       "<style scoped>\n",
       "    .dataframe tbody tr th:only-of-type {\n",
       "        vertical-align: middle;\n",
       "    }\n",
       "\n",
       "    .dataframe tbody tr th {\n",
       "        vertical-align: top;\n",
       "    }\n",
       "\n",
       "    .dataframe thead th {\n",
       "        text-align: right;\n",
       "    }\n",
       "</style>\n",
       "<table border=\"1\" class=\"dataframe\">\n",
       "  <thead>\n",
       "    <tr style=\"text-align: right;\">\n",
       "      <th></th>\n",
       "      <th>sugar to flour ratio</th>\n",
       "      <th>sugar index</th>\n",
       "      <th>bake temp</th>\n",
       "      <th>chill time</th>\n",
       "      <th>calories</th>\n",
       "      <th>density</th>\n",
       "      <th>pH</th>\n",
       "      <th>grams baking soda</th>\n",
       "      <th>bake time</th>\n",
       "      <th>quality</th>\n",
       "      <th>weight</th>\n",
       "      <th>mixins</th>\n",
       "      <th>crunch factor</th>\n",
       "      <th>butter type_cubed</th>\n",
       "      <th>butter type_melted</th>\n",
       "    </tr>\n",
       "  </thead>\n",
       "  <tbody>\n",
       "    <tr>\n",
       "      <th>0</th>\n",
       "      <td>0.25</td>\n",
       "      <td>9.5</td>\n",
       "      <td>300</td>\n",
       "      <td>15.0</td>\n",
       "      <td>136.0</td>\n",
       "      <td>0.99367</td>\n",
       "      <td>8.10</td>\n",
       "      <td>0.44</td>\n",
       "      <td>12.1</td>\n",
       "      <td>8</td>\n",
       "      <td>15.2</td>\n",
       "      <td>raisins</td>\n",
       "      <td>1.30</td>\n",
       "      <td>0</td>\n",
       "      <td>1</td>\n",
       "    </tr>\n",
       "    <tr>\n",
       "      <th>1</th>\n",
       "      <td>0.23</td>\n",
       "      <td>3.3</td>\n",
       "      <td>520</td>\n",
       "      <td>34.0</td>\n",
       "      <td>113.0</td>\n",
       "      <td>0.99429</td>\n",
       "      <td>8.16</td>\n",
       "      <td>0.48</td>\n",
       "      <td>8.4</td>\n",
       "      <td>7</td>\n",
       "      <td>12.4</td>\n",
       "      <td>raisins</td>\n",
       "      <td>1.71</td>\n",
       "      <td>0</td>\n",
       "      <td>1</td>\n",
       "    </tr>\n",
       "  </tbody>\n",
       "</table>\n",
       "</div>"
      ],
      "text/plain": [
       "   sugar to flour ratio  sugar index  bake temp  chill time  calories  \\\n",
       "0                  0.25          9.5        300        15.0     136.0   \n",
       "1                  0.23          3.3        520        34.0     113.0   \n",
       "\n",
       "   density    pH  grams baking soda  bake time  quality  weight   mixins  \\\n",
       "0  0.99367  8.10               0.44       12.1        8    15.2  raisins   \n",
       "1  0.99429  8.16               0.48        8.4        7    12.4  raisins   \n",
       "\n",
       "   crunch factor  butter type_cubed  butter type_melted  \n",
       "0           1.30                  0                   1  \n",
       "1           1.71                  0                   1  "
      ]
     },
     "execution_count": 24,
     "metadata": {},
     "output_type": "execute_result"
    }
   ],
   "source": [
    "cookies.head(2)"
   ]
  },
  {
   "cell_type": "markdown",
   "metadata": {},
   "source": [
    "### Ordinal Encoding"
   ]
  },
  {
   "cell_type": "code",
   "execution_count": 25,
   "metadata": {},
   "outputs": [],
   "source": [
    "cookies['mixins']= cookies['mixins'].astype('category')\n",
    "cookies['mixins'] = cookies['mixins'].cat.codes"
   ]
  },
  {
   "cell_type": "code",
   "execution_count": 26,
   "metadata": {},
   "outputs": [
    {
     "data": {
      "text/html": [
       "<div>\n",
       "<style scoped>\n",
       "    .dataframe tbody tr th:only-of-type {\n",
       "        vertical-align: middle;\n",
       "    }\n",
       "\n",
       "    .dataframe tbody tr th {\n",
       "        vertical-align: top;\n",
       "    }\n",
       "\n",
       "    .dataframe thead th {\n",
       "        text-align: right;\n",
       "    }\n",
       "</style>\n",
       "<table border=\"1\" class=\"dataframe\">\n",
       "  <thead>\n",
       "    <tr style=\"text-align: right;\">\n",
       "      <th></th>\n",
       "      <th>sugar to flour ratio</th>\n",
       "      <th>sugar index</th>\n",
       "      <th>bake temp</th>\n",
       "      <th>chill time</th>\n",
       "      <th>calories</th>\n",
       "      <th>density</th>\n",
       "      <th>pH</th>\n",
       "      <th>grams baking soda</th>\n",
       "      <th>bake time</th>\n",
       "      <th>quality</th>\n",
       "      <th>weight</th>\n",
       "      <th>mixins</th>\n",
       "      <th>crunch factor</th>\n",
       "      <th>butter type_cubed</th>\n",
       "      <th>butter type_melted</th>\n",
       "    </tr>\n",
       "  </thead>\n",
       "  <tbody>\n",
       "    <tr>\n",
       "      <th>0</th>\n",
       "      <td>0.25</td>\n",
       "      <td>9.5</td>\n",
       "      <td>300</td>\n",
       "      <td>15.0</td>\n",
       "      <td>136.0</td>\n",
       "      <td>0.99367</td>\n",
       "      <td>8.10</td>\n",
       "      <td>0.44</td>\n",
       "      <td>12.1</td>\n",
       "      <td>8</td>\n",
       "      <td>15.2</td>\n",
       "      <td>10</td>\n",
       "      <td>1.30</td>\n",
       "      <td>0</td>\n",
       "      <td>1</td>\n",
       "    </tr>\n",
       "    <tr>\n",
       "      <th>1</th>\n",
       "      <td>0.23</td>\n",
       "      <td>3.3</td>\n",
       "      <td>520</td>\n",
       "      <td>34.0</td>\n",
       "      <td>113.0</td>\n",
       "      <td>0.99429</td>\n",
       "      <td>8.16</td>\n",
       "      <td>0.48</td>\n",
       "      <td>8.4</td>\n",
       "      <td>7</td>\n",
       "      <td>12.4</td>\n",
       "      <td>10</td>\n",
       "      <td>1.71</td>\n",
       "      <td>0</td>\n",
       "      <td>1</td>\n",
       "    </tr>\n",
       "  </tbody>\n",
       "</table>\n",
       "</div>"
      ],
      "text/plain": [
       "   sugar to flour ratio  sugar index  bake temp  chill time  calories  \\\n",
       "0                  0.25          9.5        300        15.0     136.0   \n",
       "1                  0.23          3.3        520        34.0     113.0   \n",
       "\n",
       "   density    pH  grams baking soda  bake time  quality  weight  mixins  \\\n",
       "0  0.99367  8.10               0.44       12.1        8    15.2      10   \n",
       "1  0.99429  8.16               0.48        8.4        7    12.4      10   \n",
       "\n",
       "   crunch factor  butter type_cubed  butter type_melted  \n",
       "0           1.30                  0                   1  \n",
       "1           1.71                  0                   1  "
      ]
     },
     "execution_count": 26,
     "metadata": {},
     "output_type": "execute_result"
    }
   ],
   "source": [
    "cookies.head(2)"
   ]
  },
  {
   "cell_type": "code",
   "execution_count": 27,
   "metadata": {},
   "outputs": [],
   "source": [
    "# define X and y (features and target)\n",
    "X = cookies.drop(columns=\"quality\")\n",
    "y = cookies[\"quality\"]"
   ]
  },
  {
   "cell_type": "code",
   "execution_count": 28,
   "metadata": {},
   "outputs": [],
   "source": [
    "X_train, X_test, y_train, y_test = train_test_split(X, y, test_size=0.2, random_state=8)\n",
    "\n",
    "# training datasets to DataFrame again to manipulate them\n",
    "X_train = pd.DataFrame(X_train, columns= X.columns)\n",
    "X_test = pd.DataFrame(X_test, columns= X.columns)"
   ]
  },
  {
   "cell_type": "code",
   "execution_count": 29,
   "metadata": {},
   "outputs": [],
   "source": [
    "from sklearn.preprocessing import StandardScaler\n",
    "scaler = StandardScaler() # initiate transformer\n",
    "\n",
    "X_train_scaled = scaler.fit_transform(X_train) # scale data\n",
    "X_test_scaled = scaler.transform(X_test) # scale test set"
   ]
  },
  {
   "cell_type": "code",
   "execution_count": 30,
   "metadata": {},
   "outputs": [
    {
     "data": {
      "text/plain": [
       "0.6653149412033978"
      ]
     },
     "execution_count": 30,
     "metadata": {},
     "output_type": "execute_result"
    }
   ],
   "source": [
    "from sklearn.linear_model import LinearRegression\n",
    "reg = LinearRegression()\n",
    "reg.fit(X_train_scaled, y_train)\n",
    "reg.score(X_train_scaled, y_train)"
   ]
  },
  {
   "cell_type": "code",
   "execution_count": 31,
   "metadata": {},
   "outputs": [],
   "source": [
    "prediction = reg.predict(X_test_scaled)"
   ]
  },
  {
   "cell_type": "code",
   "execution_count": 32,
   "metadata": {},
   "outputs": [
    {
     "data": {
      "text/plain": [
       "0.6836383115515484"
      ]
     },
     "execution_count": 32,
     "metadata": {},
     "output_type": "execute_result"
    }
   ],
   "source": [
    "from sklearn.metrics import r2_score\n",
    "r2_score(y_test, prediction)"
   ]
  },
  {
   "cell_type": "code",
   "execution_count": 33,
   "metadata": {},
   "outputs": [
    {
     "data": {
      "text/plain": [
       "0.7390505649946055"
      ]
     },
     "execution_count": 33,
     "metadata": {},
     "output_type": "execute_result"
    }
   ],
   "source": [
    "from sklearn.metrics import mean_squared_error\n",
    "\n",
    "mean_squared_error(y_test, prediction, squared=False)"
   ]
  },
  {
   "cell_type": "markdown",
   "metadata": {},
   "source": [
    "### KNN"
   ]
  },
  {
   "cell_type": "code",
   "execution_count": 34,
   "metadata": {},
   "outputs": [],
   "source": [
    "from sklearn.model_selection import RandomizedSearchCV\n",
    "from sklearn.model_selection import GridSearchCV\n",
    "\n",
    "from sklearn.neighbors import KNeighborsRegressor\n",
    "from scipy.stats import randint\n",
    "import time"
   ]
  },
  {
   "cell_type": "code",
   "execution_count": 35,
   "metadata": {},
   "outputs": [
    {
     "name": "stdout",
     "output_type": "stream",
     "text": [
      "--- 0.4931914806365967 seconds ---\n",
      "-0.45\n"
     ]
    }
   ],
   "source": [
    "start_time = time.time()\n",
    "neigh = KNeighborsRegressor()\n",
    "\n",
    "best_knn = GridSearchCV(estimator=neigh,\n",
    "                            param_grid={\"n_neighbors\":[13],\n",
    "                            \"weights\":[\"distance\"],\n",
    "                            \"algorithm\":[\"brute\"],\n",
    "                            \"leaf_size\":[57],\n",
    "                            \"p\":[1]},\n",
    "                            scoring=\"neg_mean_squared_error\",\n",
    "                            cv=50)\n",
    "\n",
    "best_knn.fit(X_train_scaled, y_train)\n",
    "\n",
    "print(\"--- %s seconds ---\" % (time.time() - start_time))\n",
    "print(round(best_knn.best_score_, 2))"
   ]
  },
  {
   "cell_type": "code",
   "execution_count": 36,
   "metadata": {},
   "outputs": [
    {
     "data": {
      "text/plain": [
       "GridSearchCV(cv=50, estimator=KNeighborsRegressor(),\n",
       "             param_grid={'algorithm': ['brute'], 'leaf_size': [57],\n",
       "                         'n_neighbors': [13], 'p': [1],\n",
       "                         'weights': ['distance']},\n",
       "             scoring='neg_mean_squared_error')"
      ]
     },
     "execution_count": 36,
     "metadata": {},
     "output_type": "execute_result"
    }
   ],
   "source": [
    "best_knn.fit(X_train_scaled, y_train)"
   ]
  },
  {
   "cell_type": "code",
   "execution_count": 37,
   "metadata": {},
   "outputs": [],
   "source": [
    "predictions_knn = best_knn.predict(X_test_scaled)"
   ]
  },
  {
   "cell_type": "code",
   "execution_count": 38,
   "metadata": {},
   "outputs": [
    {
     "data": {
      "text/plain": [
       "0.6826757279302221"
      ]
     },
     "execution_count": 38,
     "metadata": {},
     "output_type": "execute_result"
    }
   ],
   "source": [
    "mean_squared_error(y_test, predictions_knn, squared=False)"
   ]
  },
  {
   "cell_type": "markdown",
   "metadata": {},
   "source": [
    "### RandomForest"
   ]
  },
  {
   "cell_type": "code",
   "execution_count": 39,
   "metadata": {},
   "outputs": [
    {
     "name": "stdout",
     "output_type": "stream",
     "text": [
      "--- 29.867619276046753 seconds ---\n",
      "-0.38\n"
     ]
    }
   ],
   "source": [
    "from sklearn.ensemble import RandomForestRegressor\n",
    "\n",
    "start_time = time.time()\n",
    "RF = RandomForestRegressor()\n",
    "\n",
    "best_RF = GridSearchCV(estimator=RF,\n",
    "                          param_grid={\"max_features\":[\"log2\"],\n",
    "                                      \"criterion\":[\"mse\"]},\n",
    "                          scoring=\"neg_mean_squared_error\",\n",
    "                          cv=50)\n",
    "\n",
    "best_RF.fit(X_train_scaled, y_train)\n",
    "\n",
    "print(\"--- %s seconds ---\" % (time.time() - start_time))\n",
    "print(round(best_RF.best_score_, 2))"
   ]
  },
  {
   "cell_type": "code",
   "execution_count": 40,
   "metadata": {},
   "outputs": [
    {
     "data": {
      "text/plain": [
       "GridSearchCV(cv=50, estimator=RandomForestRegressor(),\n",
       "             param_grid={'criterion': ['mse'], 'max_features': ['log2']},\n",
       "             scoring='neg_mean_squared_error')"
      ]
     },
     "execution_count": 40,
     "metadata": {},
     "output_type": "execute_result"
    }
   ],
   "source": [
    "best_RF.fit(X_train_scaled, y_train)"
   ]
  },
  {
   "cell_type": "code",
   "execution_count": 41,
   "metadata": {},
   "outputs": [],
   "source": [
    "predictions_rf = best_RF.predict(X_test_scaled)"
   ]
  },
  {
   "cell_type": "code",
   "execution_count": 42,
   "metadata": {},
   "outputs": [
    {
     "data": {
      "text/plain": [
       "0.6355157151959016"
      ]
     },
     "execution_count": 42,
     "metadata": {},
     "output_type": "execute_result"
    }
   ],
   "source": [
    "mean_squared_error(y_test, predictions_rf, squared=False)"
   ]
  },
  {
   "cell_type": "markdown",
   "metadata": {},
   "source": [
    "### GradientBoost"
   ]
  },
  {
   "cell_type": "code",
   "execution_count": 43,
   "metadata": {},
   "outputs": [
    {
     "name": "stdout",
     "output_type": "stream",
     "text": [
      "--- 28.738298892974854 seconds ---\n",
      "-0.45\n"
     ]
    }
   ],
   "source": [
    "from sklearn.ensemble import GradientBoostingRegressor\n",
    "\n",
    "start_time = time.time()\n",
    "grad = GradientBoostingRegressor()\n",
    "\n",
    "best_gradientBoost = GridSearchCV(estimator=grad,\n",
    "                                    param_grid={\"max_features\":[\"auto\"],\n",
    "                                                \"criterion\":[\"friedman_mse\"],\n",
    "                                                \"loss\":[\"ls\"]},\n",
    "                                    scoring=\"neg_mean_squared_error\",\n",
    "                                    cv=50)\n",
    "\n",
    "best_gradientBoost.fit(X_train_scaled, y_train)\n",
    "\n",
    "print(\"--- %s seconds ---\" % (time.time() - start_time))\n",
    "print(round(best_gradientBoost.best_score_, 2))"
   ]
  },
  {
   "cell_type": "code",
   "execution_count": 44,
   "metadata": {},
   "outputs": [
    {
     "data": {
      "text/plain": [
       "GridSearchCV(cv=50, estimator=GradientBoostingRegressor(),\n",
       "             param_grid={'criterion': ['friedman_mse'], 'loss': ['ls'],\n",
       "                         'max_features': ['auto']},\n",
       "             scoring='neg_mean_squared_error')"
      ]
     },
     "execution_count": 44,
     "metadata": {},
     "output_type": "execute_result"
    }
   ],
   "source": [
    "best_gradientBoost.fit(X_train_scaled, y_train)"
   ]
  },
  {
   "cell_type": "code",
   "execution_count": 45,
   "metadata": {},
   "outputs": [],
   "source": [
    "predictions_grad = best_gradientBoost.predict(X_test_scaled)"
   ]
  },
  {
   "cell_type": "code",
   "execution_count": 46,
   "metadata": {},
   "outputs": [
    {
     "data": {
      "text/plain": [
       "0.6934377869076858"
      ]
     },
     "execution_count": 46,
     "metadata": {},
     "output_type": "execute_result"
    }
   ],
   "source": [
    "mean_squared_error(y_test, predictions_grad, squared=False)"
   ]
  },
  {
   "cell_type": "markdown",
   "metadata": {},
   "source": [
    "### DecisionTree"
   ]
  },
  {
   "cell_type": "code",
   "execution_count": 47,
   "metadata": {},
   "outputs": [
    {
     "name": "stdout",
     "output_type": "stream",
     "text": [
      "--- 2.106445074081421 seconds ---\n",
      "0.68\n",
      "{'criterion': 'mse', 'max_depth': 6, 'max_features': 'auto', 'max_leaf_nodes': 34, 'splitter': 'best'}\n"
     ]
    }
   ],
   "source": [
    "from sklearn.tree import DecisionTreeRegressor\n",
    "\n",
    "start_time = time.time()\n",
    "tree = DecisionTreeRegressor()\n",
    "\n",
    "tree_params = {\"criterion\":[\"mse\", \"friedman_mse\", \"mae\"],\n",
    "              \"splitter\":[\"best\", \"random\"],\n",
    "              \"max_features\":[\"auto\", \"sqrt\", \"log2\"],\n",
    "              \"max_depth\":randint(low=3, high=13),\n",
    "              \"max_leaf_nodes\":randint(low=3, high=35)}\n",
    "\n",
    "tree_search = RandomizedSearchCV(tree,\n",
    "                                tree_params,\n",
    "                                scoring=\"r2\",\n",
    "                                cv=10,\n",
    "                                n_jobs=4,\n",
    "                                random_state=8)\n",
    "\n",
    "tree_search.fit(X_train_scaled, y_train)\n",
    "\n",
    "\n",
    "print(\"--- %s seconds ---\" % (time.time() - start_time))\n",
    "print(round(tree_search.best_score_, 2))\n",
    "print(tree_search.best_params_)"
   ]
  },
  {
   "cell_type": "code",
   "execution_count": 48,
   "metadata": {},
   "outputs": [
    {
     "data": {
      "text/plain": [
       "RandomizedSearchCV(cv=10, estimator=DecisionTreeRegressor(), n_jobs=4,\n",
       "                   param_distributions={'criterion': ['mse', 'friedman_mse',\n",
       "                                                      'mae'],\n",
       "                                        'max_depth': <scipy.stats._distn_infrastructure.rv_frozen object at 0x000001E8C777B7F0>,\n",
       "                                        'max_features': ['auto', 'sqrt',\n",
       "                                                         'log2'],\n",
       "                                        'max_leaf_nodes': <scipy.stats._distn_infrastructure.rv_frozen object at 0x000001E8C777BC10>,\n",
       "                                        'splitter': ['best', 'random']},\n",
       "                   random_state=8, scoring='r2')"
      ]
     },
     "execution_count": 48,
     "metadata": {},
     "output_type": "execute_result"
    }
   ],
   "source": [
    "tree_search.fit(X_train_scaled, y_train)"
   ]
  },
  {
   "cell_type": "code",
   "execution_count": 49,
   "metadata": {},
   "outputs": [],
   "source": [
    "predictions_tree = tree_search.predict(X_test_scaled)"
   ]
  },
  {
   "cell_type": "code",
   "execution_count": 50,
   "metadata": {},
   "outputs": [
    {
     "data": {
      "text/plain": [
       "0.719681703871948"
      ]
     },
     "execution_count": 50,
     "metadata": {},
     "output_type": "execute_result"
    }
   ],
   "source": [
    "mean_squared_error(y_test, predictions_tree, squared=False)"
   ]
  },
  {
   "cell_type": "markdown",
   "metadata": {},
   "source": [
    "**PCA**"
   ]
  },
  {
   "cell_type": "code",
   "execution_count": 51,
   "metadata": {},
   "outputs": [],
   "source": [
    "from sklearn.decomposition import PCA\n",
    "\n",
    "pca = PCA(n_components=None) # pick number of components\n",
    "X_reduced = pca.fit_transform(X_train_scaled)"
   ]
  },
  {
   "cell_type": "code",
   "execution_count": 52,
   "metadata": {
    "scrolled": true
   },
   "outputs": [
    {
     "data": {
      "text/plain": [
       "(3922, 14)"
      ]
     },
     "execution_count": 52,
     "metadata": {},
     "output_type": "execute_result"
    }
   ],
   "source": [
    "X_reduced.shape"
   ]
  },
  {
   "cell_type": "code",
   "execution_count": 53,
   "metadata": {},
   "outputs": [
    {
     "data": {
      "text/plain": [
       "array([3.25384507e-01, 1.84320884e-01, 1.03162121e-01, 7.32922332e-02,\n",
       "       6.90426969e-02, 6.33768462e-02, 4.27437765e-02, 4.03501654e-02,\n",
       "       3.73399672e-02, 2.75620537e-02, 2.01985356e-02, 1.18842882e-02,\n",
       "       1.34192508e-03, 1.00048251e-33])"
      ]
     },
     "execution_count": 53,
     "metadata": {},
     "output_type": "execute_result"
    }
   ],
   "source": [
    "pca.explained_variance_ratio_"
   ]
  },
  {
   "cell_type": "code",
   "execution_count": 54,
   "metadata": {},
   "outputs": [],
   "source": [
    "def cumulative_sum(variance_ratio):\n",
    "    cumulativeSum = []\n",
    "    j = 0\n",
    "    \n",
    "    for i in variance_ratio:\n",
    "        j += i\n",
    "        cumulativeSum.append(j)\n",
    "        \n",
    "    return cumulativeSum"
   ]
  },
  {
   "cell_type": "code",
   "execution_count": 55,
   "metadata": {},
   "outputs": [],
   "source": [
    "cumulative_variance = cumulative_sum(pca.explained_variance_ratio_)"
   ]
  },
  {
   "cell_type": "code",
   "execution_count": 56,
   "metadata": {},
   "outputs": [
    {
     "data": {
      "image/png": "[encoded data removed]",
      "text/plain": [
       "<Figure size 576x432 with 1 Axes>"
      ]
     },
     "metadata": {
      "needs_background": "light"
     },
     "output_type": "display_data"
    }
   ],
   "source": [
    "import matplotlib.pyplot as plt\n",
    "\n",
    "fig, ax = plt.subplots(1,1, figsize=(8,6))\n",
    "\n",
    "fig.suptitle(\"Cumulative of Variances\")\n",
    "\n",
    "ax.plot(range(1,15), cumulative_variance)\n",
    "\n",
    "ax.set_ylabel(\"Variance\")\n",
    "ax.set_xlabel(\"Nº Components\")\n",
    "\n",
    "plt.show()"
   ]
  },
  {
   "cell_type": "code",
   "execution_count": 57,
   "metadata": {
    "scrolled": false
   },
   "outputs": [
    {
     "data": {
      "image/png": "[encoded data removed]",
      "text/plain": [
       "<Figure size 432x432 with 1 Axes>"
      ]
     },
     "metadata": {
      "needs_background": "light"
     },
     "output_type": "display_data"
    }
   ],
   "source": [
    "from kneed import KneeLocator\n",
    "\n",
    "kneedle = KneeLocator(range(1,15), cumulative_variance)\n",
    "\n",
    "kneedle.plot_knee()"
   ]
  },
  {
   "cell_type": "code",
   "execution_count": 58,
   "metadata": {},
   "outputs": [],
   "source": [
    "pca2 = PCA(n_components=2) # pick number of components\n",
    "X_reduced2 = pca.fit_transform(X_train_scaled)"
   ]
  },
  {
   "cell_type": "code",
   "execution_count": 59,
   "metadata": {},
   "outputs": [
    {
     "ename": "ValueError",
     "evalue": "Invalid parameter algorith for estimator KNeighborsRegressor(). Check the list of available parameters with `estimator.get_params().keys()`.",
     "output_type": "error",
     "traceback": [
      "\u001b[1;31m---------------------------------------------------------------------------\u001b[0m",
      "\u001b[1;31m_RemoteTraceback\u001b[0m                          Traceback (most recent call last)",
      "\u001b[1;31m_RemoteTraceback\u001b[0m: \n\"\"\"\nTraceback (most recent call last):\n  File \"C:\\Users\\GiantsV3\\anaconda3\\lib\\site-packages\\joblib\\externals\\loky\\process_executor.py\", line 431, in _process_worker\n    r = call_item()\n  File \"C:\\Users\\GiantsV3\\anaconda3\\lib\\site-packages\\joblib\\externals\\loky\\process_executor.py\", line 285, in __call__\n    return self.fn(*self.args, **self.kwargs)\n  File \"C:\\Users\\GiantsV3\\anaconda3\\lib\\site-packages\\joblib\\_parallel_backends.py\", line 595, in __call__\n    return self.func(*args, **kwargs)\n  File \"C:\\Users\\GiantsV3\\anaconda3\\lib\\site-packages\\joblib\\parallel.py\", line 252, in __call__\n    return [func(*args, **kwargs)\n  File \"C:\\Users\\GiantsV3\\anaconda3\\lib\\site-packages\\joblib\\parallel.py\", line 252, in <listcomp>\n    return [func(*args, **kwargs)\n  File \"C:\\Users\\GiantsV3\\anaconda3\\lib\\site-packages\\sklearn\\model_selection\\_validation.py\", line 520, in _fit_and_score\n    estimator = estimator.set_params(**cloned_parameters)\n  File \"C:\\Users\\GiantsV3\\anaconda3\\lib\\site-packages\\sklearn\\base.py\", line 249, in set_params\n    raise ValueError('Invalid parameter %s for estimator %s. '\nValueError: Invalid parameter algorith for estimator KNeighborsRegressor(). Check the list of available parameters with `estimator.get_params().keys()`.\n\"\"\"",
      "\nThe above exception was the direct cause of the following exception:\n",
      "\u001b[1;31mValueError\u001b[0m                                Traceback (most recent call last)",
      "\u001b[1;32m<ipython-input-59-a9cf6269638e>\u001b[0m in \u001b[0;36m<module>\u001b[1;34m\u001b[0m\n\u001b[0;32m     15\u001b[0m \u001b[1;33m\u001b[0m\u001b[0m\n\u001b[0;32m     16\u001b[0m \u001b[1;33m\u001b[0m\u001b[0m\n\u001b[1;32m---> 17\u001b[1;33m \u001b[0mneigh_reduced_search\u001b[0m\u001b[1;33m.\u001b[0m\u001b[0mfit\u001b[0m\u001b[1;33m(\u001b[0m\u001b[0mX_reduced2\u001b[0m\u001b[1;33m,\u001b[0m \u001b[0my_train\u001b[0m\u001b[1;33m)\u001b[0m\u001b[1;33m\u001b[0m\u001b[1;33m\u001b[0m\u001b[0m\n\u001b[0m\u001b[0;32m     18\u001b[0m \u001b[1;33m\u001b[0m\u001b[0m\n\u001b[0;32m     19\u001b[0m \u001b[0mprint\u001b[0m\u001b[1;33m(\u001b[0m\u001b[1;34m\"--- %s seconds ---\"\u001b[0m \u001b[1;33m%\u001b[0m \u001b[1;33m(\u001b[0m\u001b[0mtime\u001b[0m\u001b[1;33m.\u001b[0m\u001b[0mtime\u001b[0m\u001b[1;33m(\u001b[0m\u001b[1;33m)\u001b[0m \u001b[1;33m-\u001b[0m \u001b[0mstart_time\u001b[0m\u001b[1;33m)\u001b[0m\u001b[1;33m)\u001b[0m\u001b[1;33m\u001b[0m\u001b[1;33m\u001b[0m\u001b[0m\n",
      "\u001b[1;32m~\\anaconda3\\lib\\site-packages\\sklearn\\utils\\validation.py\u001b[0m in \u001b[0;36minner_f\u001b[1;34m(*args, **kwargs)\u001b[0m\n\u001b[0;32m     71\u001b[0m                           FutureWarning)\n\u001b[0;32m     72\u001b[0m         \u001b[0mkwargs\u001b[0m\u001b[1;33m.\u001b[0m\u001b[0mupdate\u001b[0m\u001b[1;33m(\u001b[0m\u001b[1;33m{\u001b[0m\u001b[0mk\u001b[0m\u001b[1;33m:\u001b[0m \u001b[0marg\u001b[0m \u001b[1;32mfor\u001b[0m \u001b[0mk\u001b[0m\u001b[1;33m,\u001b[0m \u001b[0marg\u001b[0m \u001b[1;32min\u001b[0m \u001b[0mzip\u001b[0m\u001b[1;33m(\u001b[0m\u001b[0msig\u001b[0m\u001b[1;33m.\u001b[0m\u001b[0mparameters\u001b[0m\u001b[1;33m,\u001b[0m \u001b[0margs\u001b[0m\u001b[1;33m)\u001b[0m\u001b[1;33m}\u001b[0m\u001b[1;33m)\u001b[0m\u001b[1;33m\u001b[0m\u001b[1;33m\u001b[0m\u001b[0m\n\u001b[1;32m---> 73\u001b[1;33m         \u001b[1;32mreturn\u001b[0m \u001b[0mf\u001b[0m\u001b[1;33m(\u001b[0m\u001b[1;33m**\u001b[0m\u001b[0mkwargs\u001b[0m\u001b[1;33m)\u001b[0m\u001b[1;33m\u001b[0m\u001b[1;33m\u001b[0m\u001b[0m\n\u001b[0m\u001b[0;32m     74\u001b[0m     \u001b[1;32mreturn\u001b[0m \u001b[0minner_f\u001b[0m\u001b[1;33m\u001b[0m\u001b[1;33m\u001b[0m\u001b[0m\n\u001b[0;32m     75\u001b[0m \u001b[1;33m\u001b[0m\u001b[0m\n",
      "\u001b[1;32m~\\anaconda3\\lib\\site-packages\\sklearn\\model_selection\\_search.py\u001b[0m in \u001b[0;36mfit\u001b[1;34m(self, X, y, groups, **fit_params)\u001b[0m\n\u001b[0;32m    734\u001b[0m                 \u001b[1;32mreturn\u001b[0m \u001b[0mresults\u001b[0m\u001b[1;33m\u001b[0m\u001b[1;33m\u001b[0m\u001b[0m\n\u001b[0;32m    735\u001b[0m \u001b[1;33m\u001b[0m\u001b[0m\n\u001b[1;32m--> 736\u001b[1;33m             \u001b[0mself\u001b[0m\u001b[1;33m.\u001b[0m\u001b[0m_run_search\u001b[0m\u001b[1;33m(\u001b[0m\u001b[0mevaluate_candidates\u001b[0m\u001b[1;33m)\u001b[0m\u001b[1;33m\u001b[0m\u001b[1;33m\u001b[0m\u001b[0m\n\u001b[0m\u001b[0;32m    737\u001b[0m \u001b[1;33m\u001b[0m\u001b[0m\n\u001b[0;32m    738\u001b[0m         \u001b[1;31m# For multi-metric evaluation, store the best_index_, best_params_ and\u001b[0m\u001b[1;33m\u001b[0m\u001b[1;33m\u001b[0m\u001b[1;33m\u001b[0m\u001b[0m\n",
      "\u001b[1;32m~\\anaconda3\\lib\\site-packages\\sklearn\\model_selection\\_search.py\u001b[0m in \u001b[0;36m_run_search\u001b[1;34m(self, evaluate_candidates)\u001b[0m\n\u001b[0;32m   1527\u001b[0m     \u001b[1;32mdef\u001b[0m \u001b[0m_run_search\u001b[0m\u001b[1;33m(\u001b[0m\u001b[0mself\u001b[0m\u001b[1;33m,\u001b[0m \u001b[0mevaluate_candidates\u001b[0m\u001b[1;33m)\u001b[0m\u001b[1;33m:\u001b[0m\u001b[1;33m\u001b[0m\u001b[1;33m\u001b[0m\u001b[0m\n\u001b[0;32m   1528\u001b[0m         \u001b[1;34m\"\"\"Search n_iter candidates from param_distributions\"\"\"\u001b[0m\u001b[1;33m\u001b[0m\u001b[1;33m\u001b[0m\u001b[0m\n\u001b[1;32m-> 1529\u001b[1;33m         evaluate_candidates(ParameterSampler(\n\u001b[0m\u001b[0;32m   1530\u001b[0m             \u001b[0mself\u001b[0m\u001b[1;33m.\u001b[0m\u001b[0mparam_distributions\u001b[0m\u001b[1;33m,\u001b[0m \u001b[0mself\u001b[0m\u001b[1;33m.\u001b[0m\u001b[0mn_iter\u001b[0m\u001b[1;33m,\u001b[0m\u001b[1;33m\u001b[0m\u001b[1;33m\u001b[0m\u001b[0m\n\u001b[0;32m   1531\u001b[0m             random_state=self.random_state))\n",
      "\u001b[1;32m~\\anaconda3\\lib\\site-packages\\sklearn\\model_selection\\_search.py\u001b[0m in \u001b[0;36mevaluate_candidates\u001b[1;34m(candidate_params)\u001b[0m\n\u001b[0;32m    706\u001b[0m                               n_splits, n_candidates, n_candidates * n_splits))\n\u001b[0;32m    707\u001b[0m \u001b[1;33m\u001b[0m\u001b[0m\n\u001b[1;32m--> 708\u001b[1;33m                 out = parallel(delayed(_fit_and_score)(clone(base_estimator),\n\u001b[0m\u001b[0;32m    709\u001b[0m                                                        \u001b[0mX\u001b[0m\u001b[1;33m,\u001b[0m \u001b[0my\u001b[0m\u001b[1;33m,\u001b[0m\u001b[1;33m\u001b[0m\u001b[1;33m\u001b[0m\u001b[0m\n\u001b[0;32m    710\u001b[0m                                                        \u001b[0mtrain\u001b[0m\u001b[1;33m=\u001b[0m\u001b[0mtrain\u001b[0m\u001b[1;33m,\u001b[0m \u001b[0mtest\u001b[0m\u001b[1;33m=\u001b[0m\u001b[0mtest\u001b[0m\u001b[1;33m,\u001b[0m\u001b[1;33m\u001b[0m\u001b[1;33m\u001b[0m\u001b[0m\n",
      "\u001b[1;32m~\\anaconda3\\lib\\site-packages\\joblib\\parallel.py\u001b[0m in \u001b[0;36m__call__\u001b[1;34m(self, iterable)\u001b[0m\n\u001b[0;32m   1040\u001b[0m \u001b[1;33m\u001b[0m\u001b[0m\n\u001b[0;32m   1041\u001b[0m             \u001b[1;32mwith\u001b[0m \u001b[0mself\u001b[0m\u001b[1;33m.\u001b[0m\u001b[0m_backend\u001b[0m\u001b[1;33m.\u001b[0m\u001b[0mretrieval_context\u001b[0m\u001b[1;33m(\u001b[0m\u001b[1;33m)\u001b[0m\u001b[1;33m:\u001b[0m\u001b[1;33m\u001b[0m\u001b[1;33m\u001b[0m\u001b[0m\n\u001b[1;32m-> 1042\u001b[1;33m                 \u001b[0mself\u001b[0m\u001b[1;33m.\u001b[0m\u001b[0mretrieve\u001b[0m\u001b[1;33m(\u001b[0m\u001b[1;33m)\u001b[0m\u001b[1;33m\u001b[0m\u001b[1;33m\u001b[0m\u001b[0m\n\u001b[0m\u001b[0;32m   1043\u001b[0m             \u001b[1;31m# Make sure that we get a last message telling us we are done\u001b[0m\u001b[1;33m\u001b[0m\u001b[1;33m\u001b[0m\u001b[1;33m\u001b[0m\u001b[0m\n\u001b[0;32m   1044\u001b[0m             \u001b[0melapsed_time\u001b[0m \u001b[1;33m=\u001b[0m \u001b[0mtime\u001b[0m\u001b[1;33m.\u001b[0m\u001b[0mtime\u001b[0m\u001b[1;33m(\u001b[0m\u001b[1;33m)\u001b[0m \u001b[1;33m-\u001b[0m \u001b[0mself\u001b[0m\u001b[1;33m.\u001b[0m\u001b[0m_start_time\u001b[0m\u001b[1;33m\u001b[0m\u001b[1;33m\u001b[0m\u001b[0m\n",
      "\u001b[1;32m~\\anaconda3\\lib\\site-packages\\joblib\\parallel.py\u001b[0m in \u001b[0;36mretrieve\u001b[1;34m(self)\u001b[0m\n\u001b[0;32m    919\u001b[0m             \u001b[1;32mtry\u001b[0m\u001b[1;33m:\u001b[0m\u001b[1;33m\u001b[0m\u001b[1;33m\u001b[0m\u001b[0m\n\u001b[0;32m    920\u001b[0m                 \u001b[1;32mif\u001b[0m \u001b[0mgetattr\u001b[0m\u001b[1;33m(\u001b[0m\u001b[0mself\u001b[0m\u001b[1;33m.\u001b[0m\u001b[0m_backend\u001b[0m\u001b[1;33m,\u001b[0m \u001b[1;34m'supports_timeout'\u001b[0m\u001b[1;33m,\u001b[0m \u001b[1;32mFalse\u001b[0m\u001b[1;33m)\u001b[0m\u001b[1;33m:\u001b[0m\u001b[1;33m\u001b[0m\u001b[1;33m\u001b[0m\u001b[0m\n\u001b[1;32m--> 921\u001b[1;33m                     \u001b[0mself\u001b[0m\u001b[1;33m.\u001b[0m\u001b[0m_output\u001b[0m\u001b[1;33m.\u001b[0m\u001b[0mextend\u001b[0m\u001b[1;33m(\u001b[0m\u001b[0mjob\u001b[0m\u001b[1;33m.\u001b[0m\u001b[0mget\u001b[0m\u001b[1;33m(\u001b[0m\u001b[0mtimeout\u001b[0m\u001b[1;33m=\u001b[0m\u001b[0mself\u001b[0m\u001b[1;33m.\u001b[0m\u001b[0mtimeout\u001b[0m\u001b[1;33m)\u001b[0m\u001b[1;33m)\u001b[0m\u001b[1;33m\u001b[0m\u001b[1;33m\u001b[0m\u001b[0m\n\u001b[0m\u001b[0;32m    922\u001b[0m                 \u001b[1;32melse\u001b[0m\u001b[1;33m:\u001b[0m\u001b[1;33m\u001b[0m\u001b[1;33m\u001b[0m\u001b[0m\n\u001b[0;32m    923\u001b[0m                     \u001b[0mself\u001b[0m\u001b[1;33m.\u001b[0m\u001b[0m_output\u001b[0m\u001b[1;33m.\u001b[0m\u001b[0mextend\u001b[0m\u001b[1;33m(\u001b[0m\u001b[0mjob\u001b[0m\u001b[1;33m.\u001b[0m\u001b[0mget\u001b[0m\u001b[1;33m(\u001b[0m\u001b[1;33m)\u001b[0m\u001b[1;33m)\u001b[0m\u001b[1;33m\u001b[0m\u001b[1;33m\u001b[0m\u001b[0m\n",
      "\u001b[1;32m~\\anaconda3\\lib\\site-packages\\joblib\\_parallel_backends.py\u001b[0m in \u001b[0;36mwrap_future_result\u001b[1;34m(future, timeout)\u001b[0m\n\u001b[0;32m    540\u001b[0m         AsyncResults.get from multiprocessing.\"\"\"\n\u001b[0;32m    541\u001b[0m         \u001b[1;32mtry\u001b[0m\u001b[1;33m:\u001b[0m\u001b[1;33m\u001b[0m\u001b[1;33m\u001b[0m\u001b[0m\n\u001b[1;32m--> 542\u001b[1;33m             \u001b[1;32mreturn\u001b[0m \u001b[0mfuture\u001b[0m\u001b[1;33m.\u001b[0m\u001b[0mresult\u001b[0m\u001b[1;33m(\u001b[0m\u001b[0mtimeout\u001b[0m\u001b[1;33m=\u001b[0m\u001b[0mtimeout\u001b[0m\u001b[1;33m)\u001b[0m\u001b[1;33m\u001b[0m\u001b[1;33m\u001b[0m\u001b[0m\n\u001b[0m\u001b[0;32m    543\u001b[0m         \u001b[1;32mexcept\u001b[0m \u001b[0mCfTimeoutError\u001b[0m \u001b[1;32mas\u001b[0m \u001b[0me\u001b[0m\u001b[1;33m:\u001b[0m\u001b[1;33m\u001b[0m\u001b[1;33m\u001b[0m\u001b[0m\n\u001b[0;32m    544\u001b[0m             \u001b[1;32mraise\u001b[0m \u001b[0mTimeoutError\u001b[0m \u001b[1;32mfrom\u001b[0m \u001b[0me\u001b[0m\u001b[1;33m\u001b[0m\u001b[1;33m\u001b[0m\u001b[0m\n",
      "\u001b[1;32m~\\anaconda3\\lib\\concurrent\\futures\\_base.py\u001b[0m in \u001b[0;36mresult\u001b[1;34m(self, timeout)\u001b[0m\n\u001b[0;32m    437\u001b[0m                 \u001b[1;32mraise\u001b[0m \u001b[0mCancelledError\u001b[0m\u001b[1;33m(\u001b[0m\u001b[1;33m)\u001b[0m\u001b[1;33m\u001b[0m\u001b[1;33m\u001b[0m\u001b[0m\n\u001b[0;32m    438\u001b[0m             \u001b[1;32melif\u001b[0m \u001b[0mself\u001b[0m\u001b[1;33m.\u001b[0m\u001b[0m_state\u001b[0m \u001b[1;33m==\u001b[0m \u001b[0mFINISHED\u001b[0m\u001b[1;33m:\u001b[0m\u001b[1;33m\u001b[0m\u001b[1;33m\u001b[0m\u001b[0m\n\u001b[1;32m--> 439\u001b[1;33m                 \u001b[1;32mreturn\u001b[0m \u001b[0mself\u001b[0m\u001b[1;33m.\u001b[0m\u001b[0m__get_result\u001b[0m\u001b[1;33m(\u001b[0m\u001b[1;33m)\u001b[0m\u001b[1;33m\u001b[0m\u001b[1;33m\u001b[0m\u001b[0m\n\u001b[0m\u001b[0;32m    440\u001b[0m             \u001b[1;32melse\u001b[0m\u001b[1;33m:\u001b[0m\u001b[1;33m\u001b[0m\u001b[1;33m\u001b[0m\u001b[0m\n\u001b[0;32m    441\u001b[0m                 \u001b[1;32mraise\u001b[0m \u001b[0mTimeoutError\u001b[0m\u001b[1;33m(\u001b[0m\u001b[1;33m)\u001b[0m\u001b[1;33m\u001b[0m\u001b[1;33m\u001b[0m\u001b[0m\n",
      "\u001b[1;32m~\\anaconda3\\lib\\concurrent\\futures\\_base.py\u001b[0m in \u001b[0;36m__get_result\u001b[1;34m(self)\u001b[0m\n\u001b[0;32m    386\u001b[0m     \u001b[1;32mdef\u001b[0m \u001b[0m__get_result\u001b[0m\u001b[1;33m(\u001b[0m\u001b[0mself\u001b[0m\u001b[1;33m)\u001b[0m\u001b[1;33m:\u001b[0m\u001b[1;33m\u001b[0m\u001b[1;33m\u001b[0m\u001b[0m\n\u001b[0;32m    387\u001b[0m         \u001b[1;32mif\u001b[0m \u001b[0mself\u001b[0m\u001b[1;33m.\u001b[0m\u001b[0m_exception\u001b[0m\u001b[1;33m:\u001b[0m\u001b[1;33m\u001b[0m\u001b[1;33m\u001b[0m\u001b[0m\n\u001b[1;32m--> 388\u001b[1;33m             \u001b[1;32mraise\u001b[0m \u001b[0mself\u001b[0m\u001b[1;33m.\u001b[0m\u001b[0m_exception\u001b[0m\u001b[1;33m\u001b[0m\u001b[1;33m\u001b[0m\u001b[0m\n\u001b[0m\u001b[0;32m    389\u001b[0m         \u001b[1;32melse\u001b[0m\u001b[1;33m:\u001b[0m\u001b[1;33m\u001b[0m\u001b[1;33m\u001b[0m\u001b[0m\n\u001b[0;32m    390\u001b[0m             \u001b[1;32mreturn\u001b[0m \u001b[0mself\u001b[0m\u001b[1;33m.\u001b[0m\u001b[0m_result\u001b[0m\u001b[1;33m\u001b[0m\u001b[1;33m\u001b[0m\u001b[0m\n",
      "\u001b[1;31mValueError\u001b[0m: Invalid parameter algorith for estimator KNeighborsRegressor(). Check the list of available parameters with `estimator.get_params().keys()`."
     ]
    }
   ],
   "source": [
    "start_time = time.time()\n",
    "neigh_PCA = KNeighborsRegressor()\n",
    "\n",
    "param_distribs = {\"n_neighbors\":randint(low=3, high=20),\n",
    "                 \"weights\":[\"distance\", \"uniform\"],\n",
    "                 \"p\":[1, 2],\n",
    "                 \"algorith\":[\"auto\", \"ball_tree\", \"kd_tree\", \"brute\"]}\n",
    "\n",
    "neigh_reduced_search = RandomizedSearchCV(neigh_PCA,\n",
    "                                   param_distribs,\n",
    "                                   scoring=\"neg_mean_squared_error\",\n",
    "                                   cv=5,\n",
    "                                   n_jobs=4,\n",
    "                                   random_state=8)\n",
    "\n",
    "\n",
    "neigh_reduced_search.fit(X_reduced2, y_train)\n",
    "\n",
    "print(\"--- %s seconds ---\" % (time.time() - start_time))\n",
    "print(round(neigh_reduced_search.best_score_, 2))\n",
    "print(neigh_reduced_search.best_params_)"
   ]
  }
 ],
 "metadata": {
  "kernelspec": {
   "display_name": "Python 3",
   "language": "python",
   "name": "python3"
  },
  "language_info": {
   "codemirror_mode": {
    "name": "ipython",
    "version": 3
   },
   "file_extension": ".py",
   "mimetype": "text/x-python",
   "name": "python",
   "nbconvert_exporter": "python",
   "pygments_lexer": "ipython3",
   "version": "3.8.3"
  }
 },
 "nbformat": 4,
 "nbformat_minor": 4
}
